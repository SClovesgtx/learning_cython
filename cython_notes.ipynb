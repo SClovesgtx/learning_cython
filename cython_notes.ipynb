{
 "cells": [
  {
   "cell_type": "markdown",
   "id": "eeb3cdcc",
   "metadata": {},
   "source": [
    "# Compiling stages\n",
    "\n",
    "\n",
    "The pipeline comprises two stages. The first stage is handled by the cython compiler, which transforms Cython source into optimized and platform-independent C or C++.\n",
    "The second stage compiles the generated C or C++ source into a shared library with a standard C or C++ compiler. The resulting shared library is platform dependent. It is a shared object file with a *.so* extension on Linux or Mac OS X, and is a dynamic library\n",
    "with a *.pyd* extension on Windows.\n",
    "\n",
    "This pipeline can be run either automatically, without user involvement (making Cython feel much like Python), or explicitly by the end user when more control is required.\n",
    "\n",
    "\n",
    "# Explicitly Compilation with distutils\n",
    "\n",
    "```\n",
    "~$ python setup.py build_ext --inplace\n",
    "```\n",
    "\n",
    "> The cython compiler is a source-to-source compiler, and the generated code is highly optimized. It is not uncommon for Cython generated C code to be faster than typical hand-written C. When the author teaches Cython, students often write C equivalents to Cython’s code; the Cython version is nearly always faster, and for equivalent algorithms is never slower. Cython’s generated C code is also highly portable, supporting all common C compilers and many Python versions simultaneously. \n",
    "\n",
    "*book \"Cython: a guide for Python Programmers\" pg. 13*\n",
    "\n",
    "# Implicitly Compilation with Jupyter\n",
    "\n",
    "Jupyter has several magic commands (click [here](https://notebook.community/acrispin/cython/docs/examples/Cython%20Magics) to check them) to allow dynamic compilation of Cython code."
   ]
  },
  {
   "cell_type": "code",
   "execution_count": 6,
   "id": "63f3046d",
   "metadata": {},
   "outputs": [
    {
     "name": "stdout",
     "output_type": "stream",
     "text": [
      "The cython extension is already loaded. To reload it, use:\n",
      "  %reload_ext cython\n"
     ]
    }
   ],
   "source": [
    "%load_ext cython"
   ]
  },
  {
   "cell_type": "code",
   "execution_count": 7,
   "id": "34fc9b00",
   "metadata": {},
   "outputs": [],
   "source": [
    "%%cython\n",
    "def fib(int n):\n",
    "    cdef int i\n",
    "    cdef double a=0.0 \n",
    "    cdef double b=1.0\n",
    "    for i in range(n):\n",
    "        a, b = a + b, a\n",
    "    return a"
   ]
  },
  {
   "cell_type": "code",
   "execution_count": 8,
   "id": "b33df5e3",
   "metadata": {},
   "outputs": [
    {
     "data": {
      "text/plain": [
       "2.880067194370816e+18"
      ]
     },
     "execution_count": 8,
     "metadata": {},
     "output_type": "execute_result"
    }
   ],
   "source": [
    "fib(90)"
   ]
  },
  {
   "cell_type": "markdown",
   "id": "47128fe1",
   "metadata": {},
   "source": [
    "# Cython Typing\n",
    "\n",
    "![](imgs/c_types.png)\n",
    "\n",
    "Type declaration could be in the following way:"
   ]
  },
  {
   "cell_type": "code",
   "execution_count": 15,
   "id": "531369e6",
   "metadata": {},
   "outputs": [],
   "source": [
    "%%cython\n",
    "cdef int i\n",
    "cdef int N=2000\n",
    "cdef float dx, s=0.0"
   ]
  },
  {
   "cell_type": "markdown",
   "id": "12480e4c",
   "metadata": {},
   "source": [
    "or:"
   ]
  },
  {
   "cell_type": "code",
   "execution_count": 17,
   "id": "69850535",
   "metadata": {},
   "outputs": [],
   "source": [
    "%%cython\n",
    "cdef:\n",
    "    int i, N=2000\n",
    "    float dx, s=0.0"
   ]
  },
  {
   "cell_type": "markdown",
   "id": "56d0aa58",
   "metadata": {},
   "source": [
    "To enable type inference for a function, we can use the decorator form of infer_types:"
   ]
  },
  {
   "cell_type": "code",
   "execution_count": 20,
   "id": "5b9afa5d",
   "metadata": {},
   "outputs": [],
   "source": [
    "%%cython\n",
    "cimport cython\n",
    "\n",
    "@cython.infer_types(True)\n",
    "def more_inference():\n",
    "    i = 1\n",
    "    d = 2.0\n",
    "    c = 3+4j\n",
    "    r = i * d + c\n",
    "    return r"
   ]
  },
  {
   "cell_type": "markdown",
   "id": "2fbc5765",
   "metadata": {},
   "source": [
    "## Poiters"
   ]
  },
  {
   "cell_type": "markdown",
   "id": "499708bb",
   "metadata": {},
   "source": [
    "Pointers can be declared in this way:"
   ]
  },
  {
   "cell_type": "code",
   "execution_count": 23,
   "id": "54608519",
   "metadata": {},
   "outputs": [],
   "source": [
    "%%cython\n",
    "cdef int *a, *b"
   ]
  },
  {
   "cell_type": "markdown",
   "id": "5f26fa6b",
   "metadata": {},
   "source": [
    "Or this way:"
   ]
  },
  {
   "cell_type": "code",
   "execution_count": 25,
   "id": "ff19b312",
   "metadata": {},
   "outputs": [],
   "source": [
    "%%cython\n",
    "cdef int* a, b"
   ]
  },
  {
   "cell_type": "markdown",
   "id": "8ee98b74",
   "metadata": {},
   "source": [
    "Dereferencing pointers in Cython is different than in C. Because the Python language already uses the *args and **kwargs syntax to allow arbitrary positional and keyword arguments and to support function argument unpacking, Cython does not support the *a syntax to dereference a C pointer. Instead, we index into the pointer at location 0 to dereference a pointer in Cython. This syntax also works to dereference a pointer in C."
   ]
  },
  {
   "cell_type": "code",
   "execution_count": 14,
   "id": "2debd3d8",
   "metadata": {},
   "outputs": [
    {
     "name": "stdout",
     "output_type": "stream",
     "text": [
      "1.618\n"
     ]
    }
   ],
   "source": [
    "%%cython\n",
    "cdef double golden_ratio\n",
    "cdef double *p_double\n",
    "\n",
    "p_double = &golden_ratio\n",
    "\n",
    "p_double[0] = 1.618\n",
    "print(golden_ratio)"
   ]
  },
  {
   "cell_type": "markdown",
   "id": "ece30867",
   "metadata": {},
   "source": [
    "## Statically Declaring Variables with a Python Type"
   ]
  },
  {
   "cell_type": "markdown",
   "id": "4d24e638",
   "metadata": {},
   "source": [
    "Not all Python types can be statically declared: they must be implemented in C and\n",
    "Cython must have access to the declaration. \n",
    "\n",
    "The built-in Python types already satisfy\n",
    "these requirements, and declaring them is straightforward"
   ]
  },
  {
   "cell_type": "code",
   "execution_count": 26,
   "id": "5c1edc77",
   "metadata": {},
   "outputs": [],
   "source": [
    "%%cython\n",
    "cdef list particles, modified_particles\n",
    "cdef dict names_from_particles\n",
    "cdef str pname\n",
    "cdef set unique_particles"
   ]
  },
  {
   "cell_type": "markdown",
   "id": "0a8196e7",
   "metadata": {},
   "source": [
    "# C division vs Cython Division"
   ]
  },
  {
   "cell_type": "markdown",
   "id": "39bf43e2",
   "metadata": {},
   "source": [
    "C and Python have markedly different behavior when computing. Cython uses Python semantics by default.\n",
    "\n",
    "To obtain C semantics, we can use the cdivision compiler directive, either at the global module level, or in a directive comment ```# cython: cdivision=True```:"
   ]
  },
  {
   "cell_type": "code",
   "execution_count": 32,
   "id": "eca8bdb0",
   "metadata": {},
   "outputs": [],
   "source": [
    "%%cython\n",
    "cimport cython\n",
    "\n",
    "@cython.cdivision(True)\n",
    "def divides(int a, int b):\n",
    "    return a / b"
   ]
  },
  {
   "cell_type": "code",
   "execution_count": 29,
   "id": "cfc4b9fc",
   "metadata": {},
   "outputs": [
    {
     "data": {
      "text/plain": [
       "0"
      ]
     },
     "execution_count": 29,
     "metadata": {},
     "output_type": "execute_result"
    }
   ],
   "source": [
    "divides(-1, 2)"
   ]
  },
  {
   "cell_type": "code",
   "execution_count": 31,
   "id": "82e921f1",
   "metadata": {},
   "outputs": [
    {
     "data": {
      "text/plain": [
       "5"
      ]
     },
     "execution_count": 31,
     "metadata": {},
     "output_type": "execute_result"
    }
   ],
   "source": [
    "divides(10, 2)"
   ]
  },
  {
   "cell_type": "markdown",
   "id": "ebdd502b",
   "metadata": {},
   "source": [
    "Or within a function with a context manager:"
   ]
  },
  {
   "cell_type": "code",
   "execution_count": 33,
   "id": "c2d7b57d",
   "metadata": {},
   "outputs": [],
   "source": [
    "%%cython\n",
    "cimport cython\n",
    "\n",
    "def remainder(int a, int b):\n",
    "    with cython.cdivision(True):\n",
    "        return a % b"
   ]
  },
  {
   "cell_type": "code",
   "execution_count": 34,
   "id": "ea18ee81",
   "metadata": {},
   "outputs": [
    {
     "data": {
      "text/plain": [
       "2"
      ]
     },
     "execution_count": 34,
     "metadata": {},
     "output_type": "execute_result"
    }
   ],
   "source": [
    "remainder(5, 3)"
   ]
  }
 ],
 "metadata": {
  "kernelspec": {
   "display_name": "Python 3 (ipykernel)",
   "language": "python",
   "name": "python3"
  },
  "language_info": {
   "codemirror_mode": {
    "name": "ipython",
    "version": 3
   },
   "file_extension": ".py",
   "mimetype": "text/x-python",
   "name": "python",
   "nbconvert_exporter": "python",
   "pygments_lexer": "ipython3",
   "version": "3.10.6"
  },
  "vscode": {
   "interpreter": {
    "hash": "31f2aee4e71d21fbe5cf8b01ff0e069b9275f58929596ceb00d14d90e3e16cd6"
   }
  }
 },
 "nbformat": 4,
 "nbformat_minor": 5
}
