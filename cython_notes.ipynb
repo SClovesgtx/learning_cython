{
 "cells": [
  {
   "cell_type": "markdown",
   "id": "297ee2a6",
   "metadata": {},
   "source": [
    "* [Compiling stages](#Compiling-stages)\n",
    "    - [Explicitly Compilation with distutils](#Explicitly-Compilation-with-distutils)\n",
    "    - [Implicitly Compilation with Jupyter](#Implicitly-Compilation-with-Jupyter)\n",
    "* [Cython Typing](#Cython-Typing)\n",
    "    - [Poiters](#Poiters)\n",
    "    - [Statically Declaring Variables with a Python Type](#Statically-Declaring-Variables-with-a-Python-Type)\n",
    "* [C division vs Cython Division](#C-division-vs-Cython-Division)\n",
    "* [Functions](#Functions)\n",
    "    - [Combining def and cdef Functions with cpdef](#Combining-def-and-cdef-Functions-with-cpdef)\n",
    "    - [Dealing with exceptions](#Dealing-with-exceptions)"
   ]
  },
  {
   "cell_type": "markdown",
   "id": "fb6cb501",
   "metadata": {},
   "source": [
    "Anotations taked from [Cython: A Guide for Python Programmers](https://www.amazon.com.br/Cython-Kurt-Smith/dp/1491901551/ref=asc_df_1491901551/?tag=googleshopp00-20&linkCode=df0&hvadid=379735814613&hvpos=&hvnetw=g&hvrand=18010478823698863835&hvpone=&hvptwo=&hvqmt=&hvdev=c&hvdvcmdl=&hvlocint=&hvlocphy=1001706&hvtargid=pla-456029009508&psc=1)"
   ]
  },
  {
   "cell_type": "markdown",
   "id": "eeb3cdcc",
   "metadata": {},
   "source": [
    "# Compiling stages\n",
    "\n",
    "\n",
    "The pipeline comprises two stages. The first stage is handled by the cython compiler, which transforms Cython source into optimized and platform-independent C or C++.\n",
    "The second stage compiles the generated C or C++ source into a shared library with a standard C or C++ compiler. The resulting shared library is platform dependent. It is a shared object file with a *.so* extension on Linux or Mac OS X, and is a dynamic library\n",
    "with a *.pyd* extension on Windows.\n",
    "\n",
    "This pipeline can be run either automatically, without user involvement (making Cython feel much like Python), or explicitly by the end user when more control is required.\n",
    "\n",
    "\n",
    "## Explicitly Compilation with distutils\n",
    "\n",
    "```\n",
    "~$ python setup.py build_ext --inplace\n",
    "```\n",
    "\n",
    "> The cython compiler is a source-to-source compiler, and the generated code is highly optimized. It is not uncommon for Cython generated C code to be faster than typical hand-written C. When the author teaches Cython, students often write C equivalents to Cython’s code; the Cython version is nearly always faster, and for equivalent algorithms is never slower. Cython’s generated C code is also highly portable, supporting all common C compilers and many Python versions simultaneously. \n",
    "\n",
    "*book \"Cython: a guide for Python Programmers\" pg. 13*\n",
    "\n",
    "## Implicitly Compilation with Jupyter\n",
    "\n",
    "Jupyter has several magic commands (click [here](https://notebook.community/acrispin/cython/docs/examples/Cython%20Magics) to check them) to allow dynamic compilation of Cython code."
   ]
  },
  {
   "cell_type": "code",
   "execution_count": 1,
   "id": "63f3046d",
   "metadata": {},
   "outputs": [],
   "source": [
    "%load_ext cython"
   ]
  },
  {
   "cell_type": "code",
   "execution_count": 7,
   "id": "34fc9b00",
   "metadata": {},
   "outputs": [],
   "source": [
    "%%cython\n",
    "def fib(int n):\n",
    "    cdef int i\n",
    "    cdef double a=0.0 \n",
    "    cdef double b=1.0\n",
    "    for i in range(n):\n",
    "        a, b = a + b, a\n",
    "    return a"
   ]
  },
  {
   "cell_type": "code",
   "execution_count": 8,
   "id": "b33df5e3",
   "metadata": {},
   "outputs": [
    {
     "data": {
      "text/plain": [
       "2.880067194370816e+18"
      ]
     },
     "execution_count": 8,
     "metadata": {},
     "output_type": "execute_result"
    }
   ],
   "source": [
    "fib(90)"
   ]
  },
  {
   "cell_type": "markdown",
   "id": "47128fe1",
   "metadata": {},
   "source": [
    "# Cython Typing\n",
    "\n",
    "![](imgs/c_types.png)\n",
    "\n",
    "Type declaration could be in the following way:"
   ]
  },
  {
   "cell_type": "code",
   "execution_count": 15,
   "id": "531369e6",
   "metadata": {},
   "outputs": [],
   "source": [
    "%%cython\n",
    "cdef int i\n",
    "cdef int N=2000\n",
    "cdef float dx, s=0.0"
   ]
  },
  {
   "cell_type": "markdown",
   "id": "12480e4c",
   "metadata": {},
   "source": [
    "or:"
   ]
  },
  {
   "cell_type": "code",
   "execution_count": 17,
   "id": "69850535",
   "metadata": {},
   "outputs": [],
   "source": [
    "%%cython\n",
    "cdef:\n",
    "    int i, N=2000\n",
    "    float dx, s=0.0"
   ]
  },
  {
   "cell_type": "markdown",
   "id": "56d0aa58",
   "metadata": {},
   "source": [
    "To enable type inference for a function, we can use the decorator form of infer_types:"
   ]
  },
  {
   "cell_type": "code",
   "execution_count": 20,
   "id": "5b9afa5d",
   "metadata": {},
   "outputs": [],
   "source": [
    "%%cython\n",
    "cimport cython\n",
    "\n",
    "@cython.infer_types(True)\n",
    "def more_inference():\n",
    "    i = 1\n",
    "    d = 2.0\n",
    "    c = 3+4j\n",
    "    r = i * d + c\n",
    "    return r"
   ]
  },
  {
   "cell_type": "markdown",
   "id": "2fbc5765",
   "metadata": {},
   "source": [
    "## Poiters"
   ]
  },
  {
   "cell_type": "markdown",
   "id": "499708bb",
   "metadata": {},
   "source": [
    "Pointers can be declared in this way:"
   ]
  },
  {
   "cell_type": "code",
   "execution_count": 23,
   "id": "54608519",
   "metadata": {},
   "outputs": [],
   "source": [
    "%%cython\n",
    "cdef int *a, *b"
   ]
  },
  {
   "cell_type": "markdown",
   "id": "5f26fa6b",
   "metadata": {},
   "source": [
    "Or this way:"
   ]
  },
  {
   "cell_type": "code",
   "execution_count": 25,
   "id": "ff19b312",
   "metadata": {},
   "outputs": [],
   "source": [
    "%%cython\n",
    "cdef int* a, b"
   ]
  },
  {
   "cell_type": "markdown",
   "id": "8ee98b74",
   "metadata": {},
   "source": [
    "Dereferencing pointers in Cython is different than in C. Because the Python language already uses the *args and **kwargs syntax to allow arbitrary positional and keyword arguments and to support function argument unpacking, Cython does not support the *a syntax to dereference a C pointer. Instead, we index into the pointer at location 0 to dereference a pointer in Cython. This syntax also works to dereference a pointer in C."
   ]
  },
  {
   "cell_type": "code",
   "execution_count": 14,
   "id": "2debd3d8",
   "metadata": {},
   "outputs": [
    {
     "name": "stdout",
     "output_type": "stream",
     "text": [
      "1.618\n"
     ]
    }
   ],
   "source": [
    "%%cython\n",
    "cdef double golden_ratio\n",
    "cdef double *p_double\n",
    "\n",
    "p_double = &golden_ratio\n",
    "\n",
    "p_double[0] = 1.618\n",
    "print(golden_ratio)"
   ]
  },
  {
   "cell_type": "markdown",
   "id": "ece30867",
   "metadata": {},
   "source": [
    "## Statically Declaring Variables with a Python Type"
   ]
  },
  {
   "cell_type": "markdown",
   "id": "4d24e638",
   "metadata": {},
   "source": [
    "Not all Python types can be statically declared: they must be implemented in C and\n",
    "Cython must have access to the declaration. \n",
    "\n",
    "The built-in Python types already satisfy\n",
    "these requirements, and declaring them is straightforward"
   ]
  },
  {
   "cell_type": "code",
   "execution_count": 26,
   "id": "5c1edc77",
   "metadata": {},
   "outputs": [],
   "source": [
    "%%cython\n",
    "cdef list particles, modified_particles\n",
    "cdef dict names_from_particles\n",
    "cdef str pname\n",
    "cdef set unique_particles"
   ]
  },
  {
   "cell_type": "markdown",
   "id": "0a8196e7",
   "metadata": {},
   "source": [
    "# C division vs Cython Division"
   ]
  },
  {
   "cell_type": "markdown",
   "id": "39bf43e2",
   "metadata": {},
   "source": [
    "C and Python have markedly different behavior when computing. Cython uses Python semantics by default.\n",
    "\n",
    "To obtain C semantics, we can use the cdivision compiler directive, either at the global module level, or in a directive comment ```# cython: cdivision=True```:"
   ]
  },
  {
   "cell_type": "code",
   "execution_count": 32,
   "id": "eca8bdb0",
   "metadata": {},
   "outputs": [],
   "source": [
    "%%cython\n",
    "cimport cython\n",
    "\n",
    "@cython.cdivision(True)\n",
    "def divides(int a, int b):\n",
    "    return a / b"
   ]
  },
  {
   "cell_type": "code",
   "execution_count": 29,
   "id": "cfc4b9fc",
   "metadata": {},
   "outputs": [
    {
     "data": {
      "text/plain": [
       "0"
      ]
     },
     "execution_count": 29,
     "metadata": {},
     "output_type": "execute_result"
    }
   ],
   "source": [
    "divides(-1, 2)"
   ]
  },
  {
   "cell_type": "code",
   "execution_count": 31,
   "id": "82e921f1",
   "metadata": {},
   "outputs": [
    {
     "data": {
      "text/plain": [
       "5"
      ]
     },
     "execution_count": 31,
     "metadata": {},
     "output_type": "execute_result"
    }
   ],
   "source": [
    "divides(10, 2)"
   ]
  },
  {
   "cell_type": "markdown",
   "id": "ebdd502b",
   "metadata": {},
   "source": [
    "Or within a function with a context manager:"
   ]
  },
  {
   "cell_type": "code",
   "execution_count": 33,
   "id": "c2d7b57d",
   "metadata": {},
   "outputs": [],
   "source": [
    "%%cython\n",
    "cimport cython\n",
    "\n",
    "def remainder(int a, int b):\n",
    "    with cython.cdivision(True):\n",
    "        return a % b"
   ]
  },
  {
   "cell_type": "code",
   "execution_count": 34,
   "id": "ea18ee81",
   "metadata": {},
   "outputs": [
    {
     "data": {
      "text/plain": [
       "2"
      ]
     },
     "execution_count": 34,
     "metadata": {},
     "output_type": "execute_result"
    }
   ],
   "source": [
    "remainder(5, 3)"
   ]
  },
  {
   "cell_type": "markdown",
   "id": "19a1f851",
   "metadata": {},
   "source": [
    "# Functions"
   ]
  },
  {
   "cell_type": "markdown",
   "id": "045d3847",
   "metadata": {},
   "source": [
    "Cython supports both Python and C functions and allows them to call each other in a\n",
    "natural and straightforward way, all in the same source file."
   ]
  },
  {
   "cell_type": "markdown",
   "id": "daf76c16",
   "metadata": {},
   "source": [
    "Cython supports regular Python functions defined with the def keyword, and they work\n",
    "as we would expect."
   ]
  },
  {
   "cell_type": "code",
   "execution_count": 34,
   "id": "4c70fdf0",
   "metadata": {},
   "outputs": [],
   "source": [
    "%%cython\n",
    "\n",
    "# Python visible function signature:\n",
    "def fact_py(n):\n",
    "    \"\"\"Computes n!\"\"\"\n",
    "    if n <= 1:\n",
    "        return 1\n",
    "    return n * fact_py(n - 1)"
   ]
  },
  {
   "cell_type": "code",
   "execution_count": 30,
   "id": "2960e78b",
   "metadata": {},
   "outputs": [
    {
     "name": "stdout",
     "output_type": "stream",
     "text": [
      "945 ns ± 65 ns per loop (mean ± std. dev. of 7 runs, 1,000,000 loops each)\n"
     ]
    }
   ],
   "source": [
    "%timeit fact_py(20)"
   ]
  },
  {
   "cell_type": "markdown",
   "id": "cb64d491",
   "metadata": {},
   "source": [
    "Just compile a python function in Cython make a difference. Lets define a interpreted python function to compare:"
   ]
  },
  {
   "cell_type": "code",
   "execution_count": 11,
   "id": "c49a316d",
   "metadata": {},
   "outputs": [],
   "source": [
    "def interpred_fact(n):\n",
    "    \"\"\"Computes n!\"\"\"\n",
    "    if n <= 1:\n",
    "        return 1\n",
    "    return n * interpred_fact(n - 1)"
   ]
  },
  {
   "cell_type": "code",
   "execution_count": 31,
   "id": "b005ba57",
   "metadata": {},
   "outputs": [
    {
     "name": "stdout",
     "output_type": "stream",
     "text": [
      "2.3 µs ± 143 ns per loop (mean ± std. dev. of 7 runs, 100,000 loops each)\n"
     ]
    }
   ],
   "source": [
    "%timeit interpred_fact(20)"
   ]
  },
  {
   "cell_type": "markdown",
   "id": "e557bb86",
   "metadata": {},
   "source": [
    "The interpreted onde is double  slower then the py compilated onde."
   ]
  },
  {
   "cell_type": "markdown",
   "id": "71a25264",
   "metadata": {},
   "source": [
    "When used to define a function, the cdef keyword creates a function with C-calling\n",
    "semantics. A cdef function’s arguments and return type are typically statically typed,\n",
    "and they can work with C pointer objects, structs, and other C types that cannot be\n",
    "automatically coerced to Python types. It is helpful to think of a cdef function as a C\n",
    "function that is defined with Cython’s Python-like syntax."
   ]
  },
  {
   "cell_type": "code",
   "execution_count": 35,
   "id": "97a52c0d",
   "metadata": {},
   "outputs": [],
   "source": [
    "%%cython\n",
    "# Not reachable in pure python:\n",
    "cdef long fact_cy(long n):\n",
    "    \"\"\"Computes n!\"\"\"\n",
    "    if n <= 1:\n",
    "        return 1\n",
    "    return n * fact_cy(n - 1)\n",
    "\n",
    "# wrapper around the cython function:\n",
    "def wrapp_fact_cy(long n):\n",
    "    return fact_cy(n)"
   ]
  },
  {
   "cell_type": "code",
   "execution_count": 33,
   "id": "4f0cd1b1",
   "metadata": {},
   "outputs": [
    {
     "name": "stdout",
     "output_type": "stream",
     "text": [
      "58.7 ns ± 2.73 ns per loop (mean ± std. dev. of 7 runs, 10,000,000 loops each)\n"
     ]
    }
   ],
   "source": [
    "%timeit wrapp_fact_cy(20)"
   ]
  },
  {
   "cell_type": "markdown",
   "id": "d3acc80c",
   "metadata": {},
   "source": [
    "Unfortunately, the wrapp_fact_cy function comes with some limitations. One limitation\n",
    "is that wrapp_fact_cy and its underlying fact_cy are restricted to C integral types only,\n",
    "and do not have the benefit of Python’s unlimited-precision integers. In practice, this\n",
    "means that wrapp_fact_cy gives erroneous results for arguments larger than some small\n",
    "value, depending on how large an unsigned long is on our system."
   ]
  },
  {
   "cell_type": "markdown",
   "id": "d2f0ed2f",
   "metadata": {},
   "source": [
    "## Combining def and cdef Functions with cpdef"
   ]
  },
  {
   "cell_type": "markdown",
   "id": "3c7f44a7",
   "metadata": {},
   "source": [
    "A single cpdef function gives us these two functions automatically: we get a C-only version\n",
    "of the function and a Python wrapper for it with the same name."
   ]
  },
  {
   "cell_type": "code",
   "execution_count": 36,
   "id": "3163b447",
   "metadata": {},
   "outputs": [],
   "source": [
    "%%cython\n",
    "cpdef long cp_fact(long n):\n",
    "    \"\"\"Computes n!\"\"\"\n",
    "    if n <= 1:\n",
    "        return 1\n",
    "    return n * cp_fact(n - 1)"
   ]
  },
  {
   "cell_type": "code",
   "execution_count": 37,
   "id": "e8159855",
   "metadata": {},
   "outputs": [
    {
     "name": "stdout",
     "output_type": "stream",
     "text": [
      "63.9 ns ± 3.56 ns per loop (mean ± std. dev. of 7 runs, 10,000,000 loops each)\n"
     ]
    }
   ],
   "source": [
    "%timeit cp_fact(20)"
   ]
  },
  {
   "cell_type": "markdown",
   "id": "b4d7f099",
   "metadata": {},
   "source": [
    "A cpdef function has one limitation, due to the fact that it does double duty as both a\n",
    "Python and a C function: its arguments and return types have to be compatible with\n",
    "both Python and C types. Any Python object can be represented at the C level (e.g., by\n",
    "using a dynamically typed argument, or by statically typing a built-in type), but not all\n",
    "C types can be represented in Python. So, we cannot use void, C pointers, or C arrays\n",
    "indiscriminately as the argument types or return type of cpdef functions."
   ]
  },
  {
   "cell_type": "markdown",
   "id": "758e8b53",
   "metadata": {},
   "source": [
    "## Dealing with exceptions"
   ]
  },
  {
   "cell_type": "markdown",
   "id": "1ec23bc3",
   "metadata": {},
   "source": [
    "A def function always returns some sort of PyObject pointer at the C level. This invar‐\n",
    "iant allows Cython to correctly propagate exceptions from def functions without is‐\n",
    "sue. Cython’s other two function types—cdef and cpdef—may return a non-Python\n",
    "type, which makes some other exception-indicating mechanism necessary."
   ]
  },
  {
   "cell_type": "code",
   "execution_count": 5,
   "id": "330eefa2",
   "metadata": {},
   "outputs": [],
   "source": [
    "%%cython\n",
    "\n",
    "cpdef double divide_ints(int i, int j) except? -1:\n",
    "    return i / j"
   ]
  },
  {
   "cell_type": "code",
   "execution_count": 6,
   "id": "4ee1aaff",
   "metadata": {},
   "outputs": [
    {
     "data": {
      "text/plain": [
       "0.5"
      ]
     },
     "execution_count": 6,
     "metadata": {},
     "output_type": "execute_result"
    }
   ],
   "source": [
    "divide_ints(1, 2)"
   ]
  },
  {
   "cell_type": "code",
   "execution_count": 7,
   "id": "3dc3b57a",
   "metadata": {},
   "outputs": [
    {
     "ename": "ZeroDivisionError",
     "evalue": "float division",
     "output_type": "error",
     "traceback": [
      "\u001b[0;31m---------------------------------------------------------------------------\u001b[0m",
      "\u001b[0;31mZeroDivisionError\u001b[0m                         Traceback (most recent call last)",
      "Cell \u001b[0;32mIn [7], line 1\u001b[0m\n\u001b[0;32m----> 1\u001b[0m \u001b[43mdivide_ints\u001b[49m\u001b[43m(\u001b[49m\u001b[38;5;241;43m1\u001b[39;49m\u001b[43m,\u001b[49m\u001b[43m \u001b[49m\u001b[38;5;241;43m0\u001b[39;49m\u001b[43m)\u001b[49m\n",
      "File \u001b[0;32m_cython_magic_4c7a1ed2ee24d79491c706826e11bc1c.pyx:2\u001b[0m, in \u001b[0;36m_cython_magic_4c7a1ed2ee24d79491c706826e11bc1c.divide_ints\u001b[0;34m()\u001b[0m\n",
      "File \u001b[0;32m_cython_magic_4c7a1ed2ee24d79491c706826e11bc1c.pyx:3\u001b[0m, in \u001b[0;36m_cython_magic_4c7a1ed2ee24d79491c706826e11bc1c.divide_ints\u001b[0;34m()\u001b[0m\n",
      "\u001b[0;31mZeroDivisionError\u001b[0m: float division"
     ]
    }
   ],
   "source": [
    "divide_ints(1, 0)"
   ]
  },
  {
   "cell_type": "markdown",
   "id": "fc2dcdaa",
   "metadata": {},
   "source": [
    "The except? -1 clause allows the return value -1 to act as a possible sentinel that an\n",
    "exception has occurred. The value -1 here is arbitrary: we could have used a different integer\n",
    "literal that is within the range of values for the return type."
   ]
  },
  {
   "cell_type": "markdown",
   "id": "6ccba12d",
   "metadata": {},
   "source": [
    "If there is a return value that always indicates an error has occurred without ambiguity, then the question\n",
    "mark can be omitted. Alternatively, to have Cython check if an exception has been raised\n",
    "regardless of return value, we can use the except * clause instead. This will incur some\n",
    "overhead."
   ]
  },
  {
   "cell_type": "code",
   "execution_count": null,
   "id": "480d1273",
   "metadata": {},
   "outputs": [],
   "source": []
  }
 ],
 "metadata": {
  "kernelspec": {
   "display_name": "Python 3 (ipykernel)",
   "language": "python",
   "name": "python3"
  },
  "language_info": {
   "codemirror_mode": {
    "name": "ipython",
    "version": 3
   },
   "file_extension": ".py",
   "mimetype": "text/x-python",
   "name": "python",
   "nbconvert_exporter": "python",
   "pygments_lexer": "ipython3",
   "version": "3.10.6"
  },
  "vscode": {
   "interpreter": {
    "hash": "31f2aee4e71d21fbe5cf8b01ff0e069b9275f58929596ceb00d14d90e3e16cd6"
   }
  }
 },
 "nbformat": 4,
 "nbformat_minor": 5
}
